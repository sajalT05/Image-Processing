{
 "cells": [
  {
   "cell_type": "code",
   "execution_count": null,
   "id": "76d060f5",
   "metadata": {},
   "outputs": [],
   "source": [
    "# import modules\n",
    "import numpy as np\n",
    "import cv2 as cv\n",
    "# import tensorflow\n",
    "import matplotlib\n",
    "import matplot.pyplot as plt\n",
    "import tensorflow\n",
    "%matplotlib.inline"
   ]
  },
  {
   "cell_type": "code",
   "execution_count": null,
   "id": "dcdf11fd",
   "metadata": {},
   "outputs": [],
   "source": [
    "img=cv2.read"
   ]
  }
 ],
 "metadata": {
  "kernelspec": {
   "display_name": "Python 3 (ipykernel)",
   "language": "python",
   "name": "python3"
  },
  "language_info": {
   "codemirror_mode": {
    "name": "ipython",
    "version": 3
   },
   "file_extension": ".py",
   "mimetype": "text/x-python",
   "name": "python",
   "nbconvert_exporter": "python",
   "pygments_lexer": "ipython3",
   "version": "3.9.12"
  }
 },
 "nbformat": 4,
 "nbformat_minor": 5
}
